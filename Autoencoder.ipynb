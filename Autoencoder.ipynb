{
  "nbformat": 4,
  "nbformat_minor": 0,
  "metadata": {
    "colab": {
      "name": "Copy of Autoencoder.ipynb",
      "version": "0.3.2",
      "provenance": [],
      "include_colab_link": true
    },
    "kernelspec": {
      "name": "python3",
      "display_name": "Python 3"
    }
  },
  "cells": [
    {
      "cell_type": "markdown",
      "metadata": {
        "id": "view-in-github",
        "colab_type": "text"
      },
      "source": [
        "<a href=\"https://colab.research.google.com/github/rohitsurana3008/InterviewPractice/blob/Development/Autoencoder.ipynb\" target=\"_parent\"><img src=\"https://colab.research.google.com/assets/colab-badge.svg\" alt=\"Open In Colab\"/></a>"
      ]
    },
    {
      "cell_type": "code",
      "metadata": {
        "id": "4pMEXiv8NC6Q",
        "colab_type": "code",
        "colab": {}
      },
      "source": [
        "import tensorflow as tf\n",
        "import os\n",
        "import matplotlib.pyplot as plt\n",
        "import numpy as np\n"
      ],
      "execution_count": 0,
      "outputs": []
    },
    {
      "cell_type": "code",
      "metadata": {
        "id": "ZwwJt8d4NPm6",
        "colab_type": "code",
        "colab": {}
      },
      "source": [
        "def save_figure(image, number, fig, fig_dir):\n",
        "    \"\"\"Saves a figure to disk as png.\n",
        "    Arguments:\n",
        "    image -- A 2-D matrix of pixels, values from 0 to 1, black and white\n",
        "    number -- A number used for image title and filename\n",
        "    fig -- Initialized pyplot figure, we do not create a new one every time\n",
        "    fig_dir -- Directory in which to save figure\n",
        "    \"\"\"\n",
        "    plt.clf()\n",
        "    plt.axis('off')\n",
        "    plt.imshow(image, cmap='gray')\n",
        "    plt.title('Step {}'.format(number))\n",
        "    save_path = os.path.join(fig_dir, 'fig_step_{:06d}'.format(number))\n",
        "    # Additional arguments used to get rid of unneeded boundaries in the image\n",
        "    fig.savefig(save_path, bbox_inches='tight', pad_inches=0)\n"
      ],
      "execution_count": 0,
      "outputs": []
    },
    {
      "cell_type": "code",
      "metadata": {
        "id": "fHy8JjVcNljl",
        "colab_type": "code",
        "colab": {}
      },
      "source": [
        "def autoencoder(x, output_size, outer_size=500, inner_size=1000,\n",
        "                name='autoencoder'):\n",
        "    \"\"\"Defines TensorFlow autoencoder model.\n",
        "    Arguments:\n",
        "    x -- Input tensor\n",
        "    output_size -- Output layer size (should be the same as input)\n",
        "    outer size -- Used for encoder and decoder layer sizes\n",
        "    inner_size -- Code (latent) layer size\n",
        "    Returns:\n",
        "    output -- Model outputs\n",
        "    \"\"\"\n",
        "    with tf.variable_scope(name):\n",
        "        encoder = tf.layers.dense(x, outer_size, name='encoder')\n",
        "        code = tf.layers.dense(encoder, inner_size, name='code')\n",
        "        decoder = tf.layers.dense(code, outer_size, name='decoder')\n",
        "        output = tf.layers.dense(decoder, output_size, name='output')\n",
        "        return output"
      ],
      "execution_count": 0,
      "outputs": []
    },
    {
      "cell_type": "code",
      "metadata": {
        "id": "e_ppeKUMNu82",
        "colab_type": "code",
        "colab": {}
      },
      "source": [
        "def main(unused_argv):\n",
        "    # Load MNIST data, NOTE: Deprecated and removed in TF 1.7\n",
        "    mnist = tf.contrib.learn.datasets.load_dataset('mnist')\n",
        "    # One example figure to reconstruct (for figures)\n",
        "    example_fig = [mnist.train.images[10]]\n",
        "    # Learning rate for Adam optimizer\n",
        "    learning_rate = 0.001\n",
        "    # Images are 28*28 pixels\n",
        "    input_size = 28*28\n",
        "    batch_size = 100\n",
        "    # Total number of steps\n",
        "    steps = 4000\n",
        "    # Save training loss and image every [save_every] steps\n",
        "    save_every = 100\n",
        "\n",
        "    # Create figure directory if doesn't exist\n",
        "    fig_dir = 'figures'\n",
        "    if not os.path.exists(fig_dir):\n",
        "        os.makedirs(fig_dir)\n",
        "    # Initialize pyplot figure, we only create one\n",
        "    fig = plt.figure(frameon=False)\n",
        "\n",
        "    # Input placeholder\n",
        "    x = tf.placeholder(tf.float32, [None, input_size], name='input')\n",
        "    output = autoencoder(x, input_size)\n",
        "    loss = tf.losses.mean_squared_error(x, output)\n",
        "    train_op = tf.train.AdamOptimizer(learning_rate).minimize(loss)\n",
        "\n",
        "    with tf.Session() as sess:\n",
        "        init = tf.global_variables_initializer()\n",
        "        sess.run(init)\n",
        "        # Writer for tensorboard\n",
        "        writer = tf.summary.FileWriter('logdir', sess.graph)\n",
        "        train_summary = tf.summary.scalar('train_loss', loss)\n",
        "\n",
        "        for i in range(1, steps+1):\n",
        "            # Take a new batch and train\n",
        "            batch, _ = mnist.train.next_batch(batch_size)\n",
        "            _, l, ts = sess.run([train_op, loss, train_summary],\n",
        "                                feed_dict={x: batch})\n",
        "\n",
        "            if i % save_every == 0:\n",
        "                print('Training loss at step {0}: {1}'.format(i, l))\n",
        "                writer.add_summary(ts, i)\n",
        "                # Reconstruct example image\n",
        "                result = sess.run([output], feed_dict={x: example_fig})\n",
        "                # Reshape flat vector into an array\n",
        "                reshaped = np.reshape(result, (28, 28))\n",
        "                save_figure(reshaped, i, fig, fig_dir)\n",
        "\n",
        "        # Use the whole test data for calculating final test loss\n",
        "        test_data = mnist.test.images\n",
        "        _, test_loss = sess.run([output, loss], feed_dict={x: test_data})\n",
        "        print('Final test loss: {}'.format(test_loss))"
      ],
      "execution_count": 0,
      "outputs": []
    },
    {
      "cell_type": "code",
      "metadata": {
        "id": "iUp1VZ_LN5Hm",
        "colab_type": "code",
        "outputId": "8ffbcb22-53d7-4186-a6f4-fa525d95f902",
        "colab": {
          "base_uri": "https://localhost:8080/",
          "height": 1175
        }
      },
      "source": [
        "\n",
        "if __name__ == '__main__':\n",
        "    tf.reset_default_graph()\n",
        "    tf.logging.set_verbosity(tf.logging.INFO)\n",
        "    tf.app.run(main=main)"
      ],
      "execution_count": 0,
      "outputs": [
        {
          "output_type": "stream",
          "text": [
            "Extracting MNIST-data/train-images-idx3-ubyte.gz\n",
            "Extracting MNIST-data/train-labels-idx1-ubyte.gz\n",
            "Extracting MNIST-data/t10k-images-idx3-ubyte.gz\n",
            "Extracting MNIST-data/t10k-labels-idx1-ubyte.gz\n",
            "Training loss at step 100: 0.015257132239639759\n",
            "Training loss at step 200: 0.009969194419682026\n",
            "Training loss at step 300: 0.008086182177066803\n",
            "Training loss at step 400: 0.007097399793565273\n",
            "Training loss at step 500: 0.005686723627150059\n",
            "Training loss at step 600: 0.0065235113725066185\n",
            "Training loss at step 700: 0.005977568216621876\n",
            "Training loss at step 800: 0.006191653199493885\n",
            "Training loss at step 900: 0.006368593778461218\n",
            "Training loss at step 1000: 0.00633922778069973\n",
            "Training loss at step 1100: 0.006401579361408949\n",
            "Training loss at step 1200: 0.006648071575909853\n",
            "Training loss at step 1300: 0.006703199353069067\n",
            "Training loss at step 1400: 0.006107590161263943\n",
            "Training loss at step 1500: 0.006250586826354265\n",
            "Training loss at step 1600: 0.006481338758021593\n",
            "Training loss at step 1700: 0.005927455145865679\n",
            "Training loss at step 1800: 0.005977793596684933\n",
            "Training loss at step 1900: 0.006170804612338543\n",
            "Training loss at step 2000: 0.005988514516502619\n",
            "Training loss at step 2100: 0.006062506698071957\n",
            "Training loss at step 2200: 0.00607707817107439\n",
            "Training loss at step 2300: 0.006574353668838739\n",
            "Training loss at step 2400: 0.005807970184832811\n",
            "Training loss at step 2500: 0.006307731848210096\n",
            "Training loss at step 2600: 0.006255551241338253\n",
            "Training loss at step 2700: 0.0063352868892252445\n",
            "Training loss at step 2800: 0.006267115473747253\n",
            "Training loss at step 2900: 0.006125204730778933\n",
            "Training loss at step 3000: 0.006090730894356966\n",
            "Training loss at step 3100: 0.006256272550672293\n",
            "Training loss at step 3200: 0.006209435407072306\n",
            "Training loss at step 3300: 0.006185692735016346\n",
            "Training loss at step 3400: 0.0064248391427099705\n",
            "Training loss at step 3500: 0.0061264559626579285\n",
            "Training loss at step 3600: 0.005789584945887327\n",
            "Training loss at step 3700: 0.005969701334834099\n",
            "Training loss at step 3800: 0.0064400904811918736\n",
            "Training loss at step 3900: 0.006194018293172121\n",
            "Training loss at step 4000: 0.006530496291816235\n",
            "Final test loss: 0.005928536411374807\n"
          ],
          "name": "stdout"
        },
        {
          "output_type": "error",
          "ename": "SystemExit",
          "evalue": "ignored",
          "traceback": [
            "An exception has occurred, use %tb to see the full traceback.\n",
            "\u001b[0;31mSystemExit\u001b[0m\n"
          ]
        },
        {
          "output_type": "stream",
          "text": [
            "/usr/local/lib/python3.6/dist-packages/IPython/core/interactiveshell.py:2890: UserWarning: To exit: use 'exit', 'quit', or Ctrl-D.\n",
            "  warn(\"To exit: use 'exit', 'quit', or Ctrl-D.\", stacklevel=1)\n"
          ],
          "name": "stderr"
        },
        {
          "output_type": "display_data",
          "data": {
            "image/png": "[encoded data removed]",
            "text/plain": [
              "<Figure size 432x288 with 1 Axes>"
            ]
          },
          "metadata": {
            "tags": []
          }
        }
      ]
    }
  ]
}